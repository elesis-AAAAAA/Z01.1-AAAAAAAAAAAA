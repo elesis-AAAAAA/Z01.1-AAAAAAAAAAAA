{
 "cells": [
  {
   "cell_type": "code",
   "execution_count": 1,
   "metadata": {},
   "outputs": [],
   "source": [
    "from IPython import display"
   ]
  },
  {
   "cell_type": "markdown",
   "metadata": {},
   "source": [
    "## SR FlipFlop\n",
    "\n",
    "A flip-flop circuit can be constructed from two NAND gates or two NOR gates. These flip-flops are shown in Figure. Each flip-flop has two outputs, Q and Q’, and two inputs, set and reset. This type of flip-flop is referred to as an SR flip-flop.\n",
    "\n"
   ]
  },
  {
   "cell_type": "code",
   "execution_count": 2,
   "metadata": {},
   "outputs": [
    {
     "data": {
      "image/png": "[encoded data removed]",
      "text/plain": [
       "<IPython.core.display.Image object>"
      ]
     },
     "execution_count": 2,
     "metadata": {},
     "output_type": "execute_result"
    }
   ],
   "source": [
    "display.Image(\"https://allaboutfpga.com/wp-content/uploads/2014/07/SR-FLIPFLOP.png\")"
   ]
  },
  {
   "cell_type": "markdown",
   "metadata": {},
   "source": [
    "### SR Flipflop truth table"
   ]
  },
  {
   "cell_type": "code",
   "execution_count": 3,
   "metadata": {},
   "outputs": [
    {
     "data": {
      "image/png": "[encoded data removed]",
      "text/plain": [
       "<IPython.core.display.Image object>"
      ]
     },
     "execution_count": 3,
     "metadata": {},
     "output_type": "execute_result"
    }
   ],
   "source": [
    "display.Image(\"https://allaboutfpga.com/wp-content/uploads/2014/07/SR-FLIPFLOP-TRUTH-TABLE.png\")"
   ]
  },
  {
   "cell_type": "markdown",
   "metadata": {},
   "source": [
    "```vhdl\n",
    "library ieee;\n",
    "use ieee. std_logic_1164.all;\n",
    "use ieee. std_logic_arith.all;\n",
    "use ieee. std_logic_unsigned.all;\n",
    "\n",
    "entity SR_FF is\n",
    "PORT( S,R,CLOCK: in std_logic;\n",
    "Q, QBAR: out std_logic);\n",
    "end SR_FF;\n",
    "\n",
    "Architecture behavioral of SR_FF is\n",
    "begin\n",
    "PROCESS(CLOCK)\n",
    "variable tmp: std_logic;\n",
    "begin\n",
    "if(CLOCK='1' and CLOCK'EVENT) then\n",
    "if(S='0' and R='0')then\n",
    "tmp:=tmp;\n",
    "elsif(S='1' and R='1')then\n",
    "tmp:='Z';\n",
    "elsif(S='0' and R='1')then\n",
    "tmp:='0';\n",
    "else\n",
    "tmp:='1';\n",
    "end if;\n",
    "end if;\n",
    "Q <= tmp;\n",
    "QBAR <= not tmp;\n",
    "end PROCESS;\n",
    "end behavioral;\n",
    "```"
   ]
  },
  {
   "cell_type": "markdown",
   "metadata": {},
   "source": [
    "## D FlipFlop\n",
    "\n",
    "The D flip-flop shown in figure is a modification of the clocked SR flip-flop. The D input goes directly into the S input and the complement of the D input goes to the R input. The D input is sampled during the occurrence of a clock pulse. If it is 1, the flip-flop is switched to the set state (unless it was already set). If it is 0, the flip-flop switches to the clear state.\n"
   ]
  },
  {
   "cell_type": "code",
   "execution_count": null,
   "metadata": {},
   "outputs": [
    {
     "data": {
      "image/png": "[encoded data removed]",
      "text/plain": [
       "<IPython.core.display.Image object>"
      ]
     },
     "metadata": {},
     "output_type": "display_data"
    }
   ],
   "source": [
    "display.Image(\"https://allaboutfpga.com/wp-content/uploads/2014/07/D-FLIPFLOP.png\")"
   ]
  },
  {
   "cell_type": "markdown",
   "metadata": {},
   "source": [
    "### D Flipflop truth table"
   ]
  },
  {
   "cell_type": "code",
   "execution_count": null,
   "metadata": {},
   "outputs": [
    {
     "data": {
      "image/png": "[encoded data removed]",
      "text/plain": [
       "<IPython.core.display.Image object>"
      ]
     },
     "metadata": {},
     "output_type": "display_data"
    }
   ],
   "source": [
    "display.Image(\"https://allaboutfpga.com/wp-content/uploads/2014/07/D-FLIPFLOP-TRUTH-TABLE.png\")"
   ]
  },
  {
   "cell_type": "markdown",
   "metadata": {},
   "source": [
    "```vhdl\n",
    "library ieee;\n",
    "use ieee. std_logic_1164.all;\n",
    "use ieee. std_logic_arith.all;\n",
    "use ieee. std_logic_unsigned.all;\n",
    "\n",
    "entity D_FF is\n",
    "PORT( D,CLOCK: in std_logic;\n",
    "Q: out std_logic);\n",
    "end D_FF;\n",
    "\n",
    "architecture behavioral of D_FF is\n",
    "begin\n",
    "process(CLOCK)\n",
    "begin\n",
    "if(CLOCK='1' and CLOCK'EVENT) then\n",
    "Q <= D;\n",
    "end if;\n",
    "end process;\n",
    "end behavioral;\n",
    "```"
   ]
  },
  {
   "cell_type": "markdown",
   "metadata": {},
   "source": [
    "## JK FlipFlop\n",
    "\n",
    "A JK flip-flop is a refinement of the SR flip-flop in that the indeterminate state of the SR type is defined in the JK type. Inputs J and K behave like inputs S and R to set and clear the flip-flop (note that in a JK flip-flop, the letter J is for set and the letter K is for clear)."
   ]
  },
  {
   "cell_type": "code",
   "execution_count": 8,
   "metadata": {},
   "outputs": [
    {
     "data": {
      "image/png": "[encoded data removed]",
      "text/plain": [
       "<IPython.core.display.Image object>"
      ]
     },
     "execution_count": 8,
     "metadata": {},
     "output_type": "execute_result"
    }
   ],
   "source": [
    "display.Image(\"https://allaboutfpga.com/wp-content/uploads/2014/07/JK-FLIPFLOP.png\")"
   ]
  },
  {
   "cell_type": "markdown",
   "metadata": {},
   "source": [
    "### JK Flipflop truth table"
   ]
  },
  {
   "cell_type": "code",
   "execution_count": 9,
   "metadata": {},
   "outputs": [
    {
     "data": {
      "image/png": "[encoded data removed]",
      "text/plain": [
       "<IPython.core.display.Image object>"
      ]
     },
     "execution_count": 9,
     "metadata": {},
     "output_type": "execute_result"
    }
   ],
   "source": [
    "display.Image(\"https://allaboutfpga.com/wp-content/uploads/2014/07/JK-FLIPFLOP-TRUTH-TABLE.png\")"
   ]
  },
  {
   "cell_type": "markdown",
   "metadata": {},
   "source": [
    "```vhdl\n",
    "library ieee;\n",
    "use ieee. std_logic_1164.all;\n",
    "use ieee. std_logic_arith.all;\n",
    "use ieee. std_logic_unsigned.all;\n",
    " \n",
    "entity JK_FF is\n",
    "PORT( J,K,CLOCK: in std_logic;\n",
    "Q, QB: out std_logic);\n",
    "end JK_FF;\n",
    " \n",
    "Architecture behavioral of JK_FF is\n",
    "begin\n",
    "PROCESS(CLOCK)\n",
    "variable TMP: std_logic;\n",
    "begin\n",
    "if(CLOCK='1' and CLOCK'EVENT) then\n",
    "if(J='0' and K='0')then\n",
    "TMP:=TMP;\n",
    "elsif(J='1' and K='1')then\n",
    "TMP:= not TMP;\n",
    "elsif(J='0' and K='1')then\n",
    "TMP:='0';\n",
    "else\n",
    "TMP:='1';\n",
    "end if;\n",
    "end if;\n",
    "Q<=TMP;\n",
    "Q <=not TMP;\n",
    "end PROCESS;\n",
    "end behavioral;\n",
    "```\n"
   ]
  },
  {
   "cell_type": "markdown",
   "metadata": {},
   "source": [
    "## T FlipFlop\n",
    "\n",
    "The T flip-flop is a single input version of the JK flip-flop. As shown in figure, the T flip-flop is obtained from the JK type if both inputs are tied together. The output of the T flip-flop “toggles” with each clock pulse."
   ]
  },
  {
   "cell_type": "code",
   "execution_count": 11,
   "metadata": {},
   "outputs": [
    {
     "data": {
      "image/png": "[encoded data removed]",
      "text/plain": [
       "<IPython.core.display.Image object>"
      ]
     },
     "execution_count": 11,
     "metadata": {},
     "output_type": "execute_result"
    }
   ],
   "source": [
    "display.Image(\"https://allaboutfpga.com/wp-content/uploads/2014/07/T-FLIPFLOP.png\")"
   ]
  },
  {
   "cell_type": "markdown",
   "metadata": {},
   "source": [
    "### T Flipflop truth table"
   ]
  },
  {
   "cell_type": "code",
   "execution_count": 12,
   "metadata": {},
   "outputs": [
    {
     "data": {
      "image/png": "[encoded data removed]",
      "text/plain": [
       "<IPython.core.display.Image object>"
      ]
     },
     "execution_count": 12,
     "metadata": {},
     "output_type": "execute_result"
    }
   ],
   "source": [
    "display.Image(\"https://allaboutfpga.com/wp-content/uploads/2014/07/T-FLIPFLOP-TRUTH-TABLE.png\")"
   ]
  },
  {
   "cell_type": "markdown",
   "metadata": {},
   "source": [
    "```vhdl\n",
    "library IEEE;\n",
    "use IEEE.STD_LOGIC_1164.ALL;\n",
    " \n",
    "entity T_FF is\n",
    "port( T: in std_logic;\n",
    "Clock: in std_logic;\n",
    "Q: out std_logic);\n",
    "end T_FF;\n",
    " \n",
    "architecture Behavioral of T_FF is\n",
    "signal tmp: std_logic;\n",
    "begin\n",
    "process (Clock)\n",
    "begin\n",
    "if Clock'event and Clock='1' then\n",
    " \n",
    "if T='0' then\n",
    "tmp <= tmp;\n",
    "elsif T='1' then\n",
    "tmp <= not (tmp);\n",
    "end if;\n",
    "end if;\n",
    "end process;\n",
    "Q <= tmp;\n",
    "end Behavioral;\n",
    "```\n"
   ]
  }
 ],
 "metadata": {
  "interpreter": {
   "hash": "f6d14814da524de67d74de16c7ac7df28b373eea2789b010f7c49e996dcef84b"
  },
  "kernelspec": {
   "display_name": "Python 3.9.7 ('base')",
   "language": "python",
   "name": "python3"
  },
  "language_info": {
   "codemirror_mode": {
    "name": "ipython",
    "version": 3
   },
   "file_extension": ".py",
   "mimetype": "text/x-python",
   "name": "python",
   "nbconvert_exporter": "python",
   "pygments_lexer": "ipython3",
   "version": "3.9.7"
  },
  "orig_nbformat": 4
 },
 "nbformat": 4,
 "nbformat_minor": 2
}
